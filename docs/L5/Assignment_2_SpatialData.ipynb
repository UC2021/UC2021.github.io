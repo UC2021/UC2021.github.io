{
  "nbformat": 4,
  "nbformat_minor": 0,
  "metadata": {
    "colab": {
      "name": "Assignment_2_SpatialData.ipynb",
      "provenance": []
    },
    "kernelspec": {
      "display_name": "Python 3",
      "language": "python",
      "name": "python3"
    },
    "language_info": {
      "codemirror_mode": {
        "name": "ipython",
        "version": 3
      },
      "file_extension": ".py",
      "mimetype": "text/x-python",
      "name": "python",
      "nbconvert_exporter": "python",
      "pygments_lexer": "ipython3",
      "version": "3.6.0"
    }
  },
  "cells": [
    {
      "cell_type": "markdown",
      "metadata": {
        "colab_type": "text",
        "id": "qx5CKsL7w0hO"
      },
      "source": [
        "**Student Name:**          "
      ]
    },
    {
      "cell_type": "markdown",
      "metadata": {
        "colab_type": "text",
        "id": "wCUy75rbw0hR"
      },
      "source": [
        "**Student Number: **"
      ]
    },
    {
      "cell_type": "markdown",
      "metadata": {
        "colab_type": "text",
        "id": "z45FwNxZw0hT"
      },
      "source": [
        "In this assignment, you will be asked to use your knowledge about spatial correlation functions and spatial weights to visualize several world bank data sets. Please be aware that your code is just part of the grade. The actual visualization as well as the interpretations will be graded as well. The dealine for this assignemnt is **on 30th of March 2020, 23:59 PM**.\n",
        "\n",
        "\n",
        "Submit the notebook ***and*** the pdf of your notebook via blackboard. Please use your studentnumber as file name (i.e. s145678.pdf and s145678.ipny). \n",
        "\n",
        "Tasks:\n",
        "\n",
        "    1) select 2 SDGs \n",
        "    2) formulate your research question \n",
        "    3) transform data into weight matrices, plot a Moran's plot and interpret it\n",
        "    4) display data in Choropleth Map (Bonus: Cartogram + 20% )\n",
        "    5) answer your research question in a 200 word summary\n",
        " "
      ]
    },
    {
      "cell_type": "markdown",
      "metadata": {
        "colab_type": "text",
        "id": "LhlR6w2qw0hW"
      },
      "source": [
        "***Task 1***"
      ]
    },
    {
      "cell_type": "markdown",
      "metadata": {
        "colab_type": "text",
        "id": "pULi3Jovw0hX"
      },
      "source": [
        "On this website: https://www.un.org/sustainabledevelopment/sustainable-development-goals/ the UN summarizes their sustainable development goals (SDGs). \n",
        "\n",
        "Select two goals to work on for this assignment.\n"
      ]
    },
    {
      "cell_type": "markdown",
      "metadata": {
        "colab_type": "text",
        "id": "m1ZfzjTtw0ha"
      },
      "source": [
        "**I will be working on these two goals:**\n",
        "    "
      ]
    },
    {
      "cell_type": "markdown",
      "metadata": {
        "colab_type": "text",
        "id": "hhWySj0hw0hc"
      },
      "source": [
        ""
      ]
    },
    {
      "cell_type": "markdown",
      "metadata": {
        "colab_type": "text",
        "id": "Gme3qsUXw0he"
      },
      "source": [
        "We would like you to focus on the African Continent for this exercise. Find shapefiles for the map of Africa and let us know where you found the shapefiles. Also let us know in which year the shapefiles were created (hint: South Sudan)"
      ]
    },
    {
      "cell_type": "markdown",
      "metadata": {
        "colab_type": "text",
        "id": "kPlCTLo1w0hh"
      },
      "source": [
        "**Link to shapefiles:** "
      ]
    },
    {
      "cell_type": "markdown",
      "metadata": {
        "colab_type": "text",
        "id": "I7y--GtOw0hj"
      },
      "source": [
        ""
      ]
    },
    {
      "cell_type": "markdown",
      "metadata": {
        "colab_type": "text",
        "id": "l4Xs_xi4w0hk"
      },
      "source": [
        "**Year shapefiles were created:**"
      ]
    },
    {
      "cell_type": "markdown",
      "metadata": {
        "colab_type": "text",
        "id": "3jlVOjKew0hm"
      },
      "source": [
        ""
      ]
    },
    {
      "cell_type": "markdown",
      "metadata": {
        "colab_type": "text",
        "id": "xPzBYRnGw0hn"
      },
      "source": [
        "***Task 2***"
      ]
    },
    {
      "cell_type": "markdown",
      "metadata": {
        "colab_type": "text",
        "id": "AiGZAGmxw0ho"
      },
      "source": [
        "For every SDG, you can find \"Goal x targets\" on the UN website. Use these targets to formulate at least one question per SDG (i.e., at least two questions that you want to answer). The question can be about the current state of a SDG in Africa, comparing countries/regions within Africa or a longitudinal comparison of a region. \n",
        "\n",
        "Make your researchquestion concrete. Something like \"What is the state of SDG 7 in Africa?\" is too broad. Something like: \"Using variable x a proxy for the development of SDG 7, how do the West-African Countries fare compared to the rest of Africa?\" is much more concrete, and narrows your question down to an achievable outcome. It also gives you something to discuss in your report.   \n",
        "\n",
        "Discuss your research question on the Blackboard forum if you are not sure. Help each other, also by asking for help if you are not used to formulate research questions yourself! \n",
        "\n",
        "\n",
        "We will answer questions and doubts about research questions on the Blackboard forum until **March 23rd **. That means: if you would like to have us check your question before you continue working on this assignment, make sure you post it until March 23rd, we will answer as quickly as possible. After March 23rd, we will not check individual research questions, but you will still be able to see what we answered and you can refer to the forum as a guideline. \n"
      ]
    },
    {
      "cell_type": "markdown",
      "metadata": {
        "colab_type": "text",
        "id": "b-TgLFDDw0hq"
      },
      "source": [
        "**My research questions:**\n",
        "\n",
        "***1st question:***\n",
        "\n",
        "***2nd question:***"
      ]
    },
    {
      "cell_type": "markdown",
      "metadata": {
        "colab_type": "text",
        "id": "zhkwAksvw0hs"
      },
      "source": [
        "On the worldbank website, you can easily find matching data: https://datacatalog.worldbank.org/dataset/sustainable-development-goals. You are free to use other data sources. Make sure to share them with us though. \n",
        "\n",
        "**Important:**\n",
        "\n",
        "! We want to re-run your analyses, so please include a link to the data that you are using in your submission!\n",
        "\n",
        "\n"
      ]
    },
    {
      "cell_type": "markdown",
      "metadata": {
        "colab_type": "text",
        "id": "PhMSOZJRw0hu"
      },
      "source": [
        "**Links to data: **"
      ]
    },
    {
      "cell_type": "markdown",
      "metadata": {
        "colab_type": "text",
        "id": "qGMe8h_Lw0hx"
      },
      "source": [
        ""
      ]
    },
    {
      "cell_type": "markdown",
      "metadata": {
        "colab_type": "text",
        "id": "IhupTGNNw0h0"
      },
      "source": [
        "**Task 3**"
      ]
    },
    {
      "cell_type": "markdown",
      "metadata": {
        "colab_type": "text",
        "id": "nOiQJQ3kw0h1"
      },
      "source": [
        "In Lab 4 (http://darribas.org/gds16/labs/Lab_04.html) by Dani Arribas, you can see examples of weight matrices and at the end an explanation of spatial lag and the Morans plot (Watch out, this is not Moran's I/ Moran's spatial autocorrelation, which is also often calculated in spatial analytics). \n",
        "Read and understand the concept of spatial lag first. In a Moran's plot, you can show how the value of a variable relates to it's spatial lag (or the average of this value in the surrounding areas). \n",
        "\n",
        "Your tasks:\n",
        "\n",
        "Create two Morans plots based on the variables related to your research questions and interpret them: \n",
        "\n",
        "What can you say about the entire continent?\n",
        "\n",
        "Can you find meaningful subregions? \n",
        "\n",
        "What if you use block weights around those subregions and re-run the analysis? "
      ]
    },
    {
      "cell_type": "code",
      "metadata": {
        "colab_type": "code",
        "id": "V3Dltrlrw0h2",
        "colab": {}
      },
      "source": [
        "#Spatial lag, Morans Plot"
      ],
      "execution_count": 0,
      "outputs": []
    },
    {
      "cell_type": "markdown",
      "metadata": {
        "colab_type": "text",
        "id": "1L-XIye8w0h7"
      },
      "source": [
        "**Interpretation:**"
      ]
    },
    {
      "cell_type": "markdown",
      "metadata": {
        "colab_type": "text",
        "id": "du_oU-_6w0h-"
      },
      "source": [
        ""
      ]
    },
    {
      "cell_type": "markdown",
      "metadata": {
        "colab_type": "text",
        "id": "nnyjEEr2w0iA"
      },
      "source": [
        "***Task 4***"
      ]
    },
    {
      "cell_type": "markdown",
      "metadata": {
        "colab_type": "text",
        "id": "o5JDbgbqw0iD"
      },
      "source": [
        "Use the same two variables you used in Task 3 and create a Choropleth Map. A choropleth map is a type of map which uses differences in shading, colouring, or the placing of symbols within predefined areas to indicate the average values of a particular quantity in those areas. Choose a color-blind proof colour combination and indicate where you found it.\n",
        "\n",
        "\n",
        "Does the map correspond to the findings in Morans plot?\n"
      ]
    },
    {
      "cell_type": "markdown",
      "metadata": {
        "colab_type": "text",
        "id": "IfRZoyebw0iF"
      },
      "source": [
        "**Chosen Colour map**: "
      ]
    },
    {
      "cell_type": "code",
      "metadata": {
        "colab_type": "code",
        "id": "YXIYhRuTw0iG",
        "colab": {}
      },
      "source": [
        "#Choropleth Map"
      ],
      "execution_count": 0,
      "outputs": []
    },
    {
      "cell_type": "markdown",
      "metadata": {
        "colab_type": "text",
        "id": "YH2z2WA9w0iK"
      },
      "source": [
        "**Interpretation:**"
      ]
    },
    {
      "cell_type": "markdown",
      "metadata": {
        "colab_type": "text",
        "id": "byLKma1lw0iK"
      },
      "source": [
        ""
      ]
    },
    {
      "cell_type": "markdown",
      "metadata": {
        "colab_type": "text",
        "id": "GMxlIdC8w0iL"
      },
      "source": [
        "Choropleth map is a basic form of visualization for spatial data. We will have a dedicated lecture to talk about other forms of visualization for spatio-temporal data. For now, we also define a **Bonuspoints (20%)** for creating a Cartogram based on one of the variables. A cartogram is a type of map in which some mapping variable – such as travel time, or population is substituted for land area or distance. When you create a cartogram the geometry or space of the map will become distorted, sometimes extremely, in order to convey the information of this alternate variable. Search the web to find more about cartograms. Can you find a way to create a cartogram for this assignment in python? We are looking forward to your solutions!"
      ]
    },
    {
      "cell_type": "code",
      "metadata": {
        "colab_type": "code",
        "id": "bKpQ07cBw0iM",
        "colab": {}
      },
      "source": [
        "#Cartograms"
      ],
      "execution_count": 0,
      "outputs": []
    },
    {
      "cell_type": "markdown",
      "metadata": {
        "colab_type": "text",
        "id": "IKrnc1kuw0iO"
      },
      "source": [
        "***Task 5***"
      ]
    },
    {
      "cell_type": "markdown",
      "metadata": {
        "colab_type": "text",
        "id": "h9OjKW1fw0iP"
      },
      "source": [
        "You visualized two variables related to your research questions. How would you interpret your findings and how does it help you to answer your research question? Which extra variables would you like to use, what information are you missing? Try to answer your research question and don't shy away from suggesting future research. "
      ]
    },
    {
      "cell_type": "markdown",
      "metadata": {
        "colab_type": "text",
        "collapsed": true,
        "id": "HR3lfrZ1w0iQ"
      },
      "source": [
        "**Answer your research question in 400 words:**"
      ]
    },
    {
      "cell_type": "markdown",
      "metadata": {
        "colab_type": "text",
        "id": "LbFgvbSCw0iR"
      },
      "source": [
        ""
      ]
    }
  ]
}