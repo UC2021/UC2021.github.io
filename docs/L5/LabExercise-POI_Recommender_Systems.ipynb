{
 "cells": [
  {
   "cell_type": "markdown",
   "metadata": {
    "colab_type": "text",
    "id": "CxA59YkI1Y7Y"
   },
   "source": [
    "# Lab2 - Point-of-Interest Recommendation Systems\n",
    "## Urban Computing course - Leiden University\n",
    "#### Instructor: Dr. Mitra Baratchi\n",
    "#### Contributor: Hossein A. Rahmani\n",
    "\n",
    "\n",
    "\n"
   ]
  },
  {
   "cell_type": "markdown",
   "metadata": {
    "colab_type": "text",
    "id": "i0VWXtk2kFXw"
   },
   "source": [
    "## Outline\n",
    "\n",
    "1.   Recommender systems and Context information\n",
    "2.   General Structure of Location-Based Social Network's Dataset\n",
    "3.   Loading the dataset (Foursquare)\n",
    "4.   Data Pre-processing\n",
    "5.   Matrix Factorization\n",
    "6.   Model Evaluation\n",
    "7.   Utilizing Contextual Information: Geographical Model"
   ]
  },
  {
   "cell_type": "markdown",
   "metadata": {
    "colab_type": "text",
    "id": "YjNJ7x2IGqma"
   },
   "source": [
    "## Recommender Systems"
   ]
  },
  {
   "cell_type": "markdown",
   "metadata": {
    "colab_type": "text",
    "id": "Lsl9EwelGuVm"
   },
   "source": [
    "Recommender systems (RSs) aim to predict the most relevant items to a user. RSs are a subclass of **information filtering systems** addressing the problem of information overload. An example of a recommendation system in action is when you visit Youtube website and you notice that some movies are being recommended to you. One of the most important applications of recommender systems is in Location-Based Social Networks (LBSNs) to recommend unvisited Point-of-Interests (POIs) to users."
   ]
  },
  {
   "cell_type": "markdown",
   "metadata": {
    "colab_type": "text",
    "id": "W34USwn7LIP5"
   },
   "source": [
    "### Recommender system approaches"
   ]
  },
  {
   "cell_type": "markdown",
   "metadata": {
    "colab_type": "text",
    "id": "2_0yBRgyLL9L"
   },
   "source": [
    "Recommender System approaches are generally divided into three categories:\n",
    "\n",
    "- **Collaborative Filtering (CF)**: CF methods recommend items to users using their past behavior or their ratings on items, as well as, similar decisions made by other similar users. The CF methods are further divided into two subcategories, __Memory-based__ and __Model-based__. In this lab, we compare two methods selected from each of these two groups.\n",
    "\n",
    "- **Content-Based (CB)**: CB methods recommend items to users using the characteristics (or known features) of an item, aiming to find other items with similar properties.\n",
    "\n",
    "- **Hybrid Method**: A number of applications combine CF and CB algorithms. Using this combinatory approach they aim to overcome the limitations of native CF and CB approaches and improve prediction performance. Importantly, they overcome the CF problems such as sparsity and loss of information. \n",
    "\n",
    "Collaborative filtering is much more popular for recommendations where the data is sparse, i.e., where there is a limited number of interactions by each user or for a particular item.\n",
    "\n",
    "More information for study and comparison can be find in the [Basics of Recommender Systems: Study of Location-Based Social Networks](https://github.com/rahmanidashti/LRSbasics)."
   ]
  },
  {
   "cell_type": "markdown",
   "metadata": {
    "colab_type": "text",
    "id": "iFi85yAWJMIb"
   },
   "source": [
    "### Context-Aware Recommender Systems"
   ]
  },
  {
   "cell_type": "markdown",
   "metadata": {
    "colab_type": "text",
    "id": "SckvfegaJRfs"
   },
   "source": [
    "In many applications, such as recommending a location, it may not be sufficient to consider only users and items – it is also important to incorporate **contextual information** into the recommendation process in order to recommend items to users in certain time, or location. For example, using the temporal context, a location recommender system would provide a POI recommendation in the afternoon that can be very different from the one in night. In addition, geographical influence is an important contextual factor that distinguishes the location recommendation from traditional item recommendation, because the check-in behavior depends on locations’ geographical features. The users' behavior on location-based social networks shows they would like to visit nearby locations rather than the distant ones."
   ]
  },
  {
   "cell_type": "markdown",
   "metadata": {
    "colab_type": "text",
    "id": "kE-1Rm4mcfHs"
   },
   "source": [
    "## LBSN's Dataset"
   ]
  },
  {
   "cell_type": "markdown",
   "metadata": {
    "colab_type": "text",
    "id": "YR1vnRWCbX9X"
   },
   "source": [
    "The dataset of a LBSN is generated based on the feature of registering __Check-in__s. A user can check in a location, to register his/her presence in that location. Generally, a check-in record includes the following:\n",
    "\n",
    "*   UserID\n",
    "*   LocationID\n",
    "*   Latitude and longitude of a location\n",
    "*   Check-in time\n",
    "\n",
    "For example, a record of check-in can be: **user_0, location_0, 1.372494548, 103.893714, 28-01-2019 14:17:15**\n",
    "\n"
   ]
  },
  {
   "cell_type": "markdown",
   "metadata": {
    "colab_type": "text",
    "id": "bB2JY4SpbPYq"
   },
   "source": [
    "## Import the required module"
   ]
  },
  {
   "cell_type": "code",
   "execution_count": 1,
   "metadata": {
    "colab": {},
    "colab_type": "code",
    "id": "FM1lNoUdjIzo"
   },
   "outputs": [],
   "source": [
    "import pandas as pd\n",
    "import numpy as np\n",
    "from numpy.linalg import norm\n",
    "import scipy.sparse as sparse\n",
    "from collections import defaultdict\n",
    "import time\n",
    "import math\n",
    "from scipy.stats import multivariate_normal\n",
    "# data visualization\n",
    "import matplotlib.pyplot as plt\n",
    "# data visualization\n",
    "import folium"
   ]
  },
  {
   "cell_type": "markdown",
   "metadata": {
    "colab_type": "text",
    "id": "11ln990OclFB"
   },
   "source": [
    "## Load the dataset\n",
    "To access the dataset, we have uploaded the preprocessed dataset of Gowalla [1] LBSN into a Github repository. Here, we have four files that are needed for this assignment: **size, train, test, and geo**. The _size_ file includes the number of users and location (or POIs), _train and test_ files store the user's check-ins and the _geo_ file includes the geographical information of each location. As mentioned above, we load the dataset from Github. This is a small version of Gowalla dataset. You can find other versions (such as Gowalla, Foursquare, or Yelp [1]). Some examples are available in the following repository to evaluate the methods https://github.com/rahmanidashti/LBSNDatasets/)."
   ]
  },
  {
   "cell_type": "code",
   "execution_count": 2,
   "metadata": {
    "colab": {},
    "colab_type": "code",
    "id": "H7JHBpCu1pqT"
   },
   "outputs": [],
   "source": [
    "size = \"https://raw.githubusercontent.com/rahmanidashti/LBSNDatasets/master/Gowalla/Gowalla_2/Gowalla_data_size.txt\"\n",
    "train = \"https://raw.githubusercontent.com/rahmanidashti/LBSNDatasets/master/Gowalla/Gowalla_2/Gowalla_train.txt\"\n",
    "test = \"https://raw.githubusercontent.com/rahmanidashti/LBSNDatasets/master/Gowalla/Gowalla_2/Gowalla_test.txt\"\n",
    "geo = \"https://raw.githubusercontent.com/rahmanidashti/LBSNDatasets/master/Gowalla/Gowalla_2/Gowalla_poi_coos.txt\""
   ]
  },
  {
   "cell_type": "code",
   "execution_count": 3,
   "metadata": {
    "colab": {
     "base_uri": "https://localhost:8080/",
     "height": 34
    },
    "colab_type": "code",
    "id": "U9zzCJTAM8Pu",
    "outputId": "4263e86b-0650-4bd2-e727-d230cfeb417e"
   },
   "outputs": [
    {
     "name": "stdout",
     "output_type": "stream",
     "text": [
      "The numebr of users is 100 and the number of locations is 6436\n"
     ]
    }
   ],
   "source": [
    "\"\"\" read the datasets as CSV files \"\"\"\n",
    "\n",
    "size_header = ['users', 'locations']\n",
    "size_data = pd.read_csv(size, sep='\t', names=size_header)\n",
    "for index, eachline in size_data.iterrows():\n",
    "  n_users, n_locations = eachline['users'], eachline['locations']\n",
    "print(\"The numebr of users is\", n_users,\"and the number of locations is\", n_locations)\n",
    "\n",
    "header = ['uid', 'lid', 'freq']\n",
    "train_data = pd.read_csv(train, sep='\t', names=header)\n",
    "test_data = pd.read_csv(test, sep='\t', names=header)\n",
    "\n",
    "geo_header = ['lid', 'lat', 'lng']\n",
    "poi_data = pd.read_csv(geo, sep='\t', names=geo_header)"
   ]
  },
  {
   "cell_type": "markdown",
   "metadata": {
    "colab_type": "text",
    "id": "rwnLMUcudlsJ"
   },
   "source": [
    "### Load the training data"
   ]
  },
  {
   "cell_type": "code",
   "execution_count": 4,
   "metadata": {
    "colab": {},
    "colab_type": "code",
    "id": "Ew2y3joTkyNf"
   },
   "outputs": [],
   "source": [
    "def read_training_data():\n",
    "  training_matrix = np.zeros((n_users, n_locations))\n",
    "  sparse_training_matrix = sparse.dok_matrix((n_users, n_locations))\n",
    "  for index, row in train_data.iterrows():\n",
    "    uid, lid, freq = row['uid'], row['lid'], row['freq']\n",
    "    uid, lid, freq = int(uid), int(lid), int(freq)\n",
    "    training_matrix[uid, lid] = 1.0\n",
    "    sparse_training_matrix[uid, lid] = freq\n",
    "  return sparse_training_matrix, training_matrix"
   ]
  },
  {
   "cell_type": "markdown",
   "metadata": {
    "colab_type": "text",
    "id": "ubiIO-5keMNh"
   },
   "source": [
    "### Load the latitude and longitude of POIs"
   ]
  },
  {
   "cell_type": "code",
   "execution_count": 5,
   "metadata": {
    "colab": {},
    "colab_type": "code",
    "id": "E0TcJzxUu9hQ"
   },
   "outputs": [],
   "source": [
    "def read_poi_coos():\n",
    "  poi_coos = {}\n",
    "  for index, row in poi_data.iterrows():\n",
    "    lid, lat, lng = row['lid'], row['lat'], row['lng']\n",
    "    lid, lat, lng = int(lid), float(lat), float(lng)\n",
    "    poi_coos[lid] = (lat, lng)\n",
    "  return poi_coos"
   ]
  },
  {
   "cell_type": "markdown",
   "metadata": {
    "colab_type": "text",
    "id": "sojWEvNpefa9"
   },
   "source": [
    "### Load the test data"
   ]
  },
  {
   "cell_type": "markdown",
   "metadata": {
    "colab_type": "text",
    "id": "OMM-Z88f4hd8"
   },
   "source": [
    "A part of dataset should be reserved for testing. Here, we consider 20% of recently available check-ins as test set."
   ]
  },
  {
   "cell_type": "code",
   "execution_count": 6,
   "metadata": {
    "colab": {},
    "colab_type": "code",
    "id": "dUj12Sn4vJF5"
   },
   "outputs": [],
   "source": [
    "def read_ground_truth():\n",
    "  ground_truth = defaultdict(set)\n",
    "  for index, row in test_data.iterrows():\n",
    "    uid, lid, _ = row['uid'], row['lid'], row['freq']\n",
    "    uid, lid = int(uid), int(lid)\n",
    "    ground_truth[uid].add(lid)\n",
    "  return ground_truth"
   ]
  },
  {
   "cell_type": "markdown",
   "metadata": {
    "colab_type": "text",
    "id": "6DOPcN2d9fsW"
   },
   "source": [
    "### Intialize the datasets"
   ]
  },
  {
   "cell_type": "code",
   "execution_count": 7,
   "metadata": {
    "colab": {},
    "colab_type": "code",
    "id": "GvoTaxNw9lw-"
   },
   "outputs": [],
   "source": [
    "sparse_training_matrix, training_matrix = read_training_data()\n",
    "ground_truth = read_ground_truth()\n",
    "poi_coos = read_poi_coos()"
   ]
  },
  {
   "cell_type": "markdown",
   "metadata": {
    "colab_type": "text",
    "id": "BZRi3l9UCpKp"
   },
   "source": [
    "## Collaborative Filtering\n",
    "As mentioned earlier, one of the most popular approaches for recommendation is __Collaborative Filtering (CF)__. The user-based approach is suitable for small datasets. When you need scalability, often MF or other model-based approaches perfrom better. Hence, we first consider and implement the user-based CF to recommend POIs. Next, we implement one of the MF-based approaches. Finally, we show the impact of context in RS and integrate one of the most important contextual factors in location recommendation to the MF model."
   ]
  },
  {
   "cell_type": "markdown",
   "metadata": {
    "colab_type": "text",
    "id": "ySj5_KG3erQ6"
   },
   "source": [
    "### User-Based Collaborative Filtering [2]\n",
    " A user-based system uses machine-learning algorithms to group all users who have shown to have similar tastes. The system builds neighborhoods of users who have similar profiles, or rating patterns. The recommender system can recommend an item to everyone if a person in his/her neighborhood buys and likes that item. Here, we used __cosine-based similarity__. The cosine-based approach defines the cosine-similarity between two users $x$ and $y$ as:\n",
    " \n",
    " $\\operatorname {sim} (x,y)=\\cos({\\vec {x}},{\\vec {y}})={\\frac {{\\vec {x}}\\cdot {\\vec {y}}}{||{\\vec {x}}||\\times ||{\\vec {y}}||}}={\\frac {\\sum \\limits _{i\\in I_{xy}}r_{x,i}r_{y,i}}{{\\sqrt {\\sum \\limits _{i\\in I_{x}}r_{x,i}^{2}}}{\\sqrt {\\sum \\limits _{i\\in I_{y}}r_{y,i}^{2}}}}}$"
   ]
  },
  {
   "cell_type": "code",
   "execution_count": 8,
   "metadata": {
    "colab": {},
    "colab_type": "code",
    "id": "VMg-KFROzxOL"
   },
   "outputs": [],
   "source": [
    "class UserBasedCF(object):\n",
    "  def __init__(self):\n",
    "    self.rec_score = None\n",
    "    self.epsilon = 1e-9\n",
    "  \n",
    "  \"\"\" This function compute the scores of the users on different POIs based on\n",
    "  the User-based and Cosine similarity \"\"\"\n",
    "  \n",
    "  def pre_compute_rec_scores(self, C):\n",
    "    ctime = time.time()\n",
    "    print(\"Training User-based Collaborative Filtering...\", )\n",
    "\n",
    "    sim = C.dot(C.T)\n",
    "    norms = [norm(C[i]) for i in range(C.shape[0])]\n",
    "\n",
    "    for i in range(C.shape[0]):\n",
    "      sim[i][i] = 0.0\n",
    "      for j in range(i+1, C.shape[0]):\n",
    "        sim[i][j] = sim[i][j] / ((norms[i] * norms[j]) + self.epsilon)\n",
    "        sim[j][i] = sim[i][j] / ((norms[i] * norms[j]) + self.epsilon)\n",
    "\n",
    "    self.rec_score = sim.dot(C)\n",
    "    print(\"Done. Elapsed time:\", time.time() - ctime, \"s\")\n",
    "\n",
    "  # return the predicted value\n",
    "  def predict(self, i, j):\n",
    "    return self.rec_score[i][j]\n"
   ]
  },
  {
   "cell_type": "markdown",
   "metadata": {
    "colab_type": "text",
    "id": "4v6fASRICSsu"
   },
   "source": [
    "## Evaluation process of recommendation (Precision and Recall)\n",
    "\n",
    "Precision and recall are two commonly used metrics for evaluating the performance of recommender systems. Precision is defined as a fraction of relevant instances among the retrieved instances, while recall (also known as sensitivity) is the fraction of relevant instances that have been retrieved over the total amount of relevant instances. You can read more on [Wikipedia](https://en.wikipedia.org/wiki/Precision_and_recall)."
   ]
  },
  {
   "cell_type": "code",
   "execution_count": 9,
   "metadata": {
    "colab": {},
    "colab_type": "code",
    "id": "bbaKaLlcCXOT"
   },
   "outputs": [],
   "source": [
    "# calculate the precision\n",
    "def precisionk(actual, predicted):\n",
    "  return 1.0 * len(set(actual) & set(predicted)) / len(predicted)"
   ]
  },
  {
   "cell_type": "code",
   "execution_count": 10,
   "metadata": {
    "colab": {},
    "colab_type": "code",
    "id": "fhjGJcSoCW36"
   },
   "outputs": [],
   "source": [
    "# calculate the recall\n",
    "def recallk(actual, predicted):\n",
    "  return 1.0 * len(set(actual) & set(predicted)) / len(actual)"
   ]
  },
  {
   "cell_type": "markdown",
   "metadata": {
    "colab_type": "text",
    "id": "SSbZL4luE7uR"
   },
   "source": [
    "## Store the evaluation values\n",
    "\n",
    "In order to store the results of the experiment we have defined a number of variables (as [list](https://docs.python.org/3/tutorial/datastructures.html#more-on-lists))."
   ]
  },
  {
   "cell_type": "code",
   "execution_count": 11,
   "metadata": {
    "colab": {},
    "colab_type": "code",
    "id": "PEXXk7SvE6po"
   },
   "outputs": [],
   "source": [
    "# precison and recall by user-based CF for each user\n",
    "precision_UB, recall_UB = [], []\n",
    "# precison and recall by Poisson Matrix Factorization Matrix Factorization for each user\n",
    "precision_MF, recall_MF = [], []\n",
    "# precison and recall by MF + Geographical Influence for each user\n",
    "precision_MFG, recall_MFG = [], []"
   ]
  },
  {
   "cell_type": "markdown",
   "metadata": {
    "colab_type": "text",
    "id": "C_rhwB3TevOQ"
   },
   "source": [
    "### Recommendation by User-based Collaborative Filtering"
   ]
  },
  {
   "cell_type": "code",
   "execution_count": 12,
   "metadata": {
    "colab": {},
    "colab_type": "code",
    "id": "n4kTkeEuvWyG"
   },
   "outputs": [],
   "source": [
    "def ub_runer():\n",
    "  top_k = 100\n",
    "  \n",
    "  # remove the last values from pre and rec\n",
    "  del precision_UB[:]\n",
    "  del recall_UB[:]\n",
    "  \n",
    "  U = UserBasedCF()\n",
    "  \n",
    "  # Compute the user-based CF\n",
    "  U.pre_compute_rec_scores(training_matrix)\n",
    "  \n",
    "  all_uids = list(range(n_users))\n",
    "  all_lids = list(range(n_locations))\n",
    "  np.random.shuffle(all_uids)\n",
    "  \n",
    "  # calculate the prediction value for each user on different items\n",
    "  for cnt, uid in enumerate(all_uids):   \n",
    "    if uid in ground_truth:\n",
    "      U_scores = [U.predict(uid, lid)\n",
    "                  if training_matrix[uid, lid] == 0 else -1\n",
    "                  for lid in all_lids]\n",
    "      \n",
    "      U_scores = np.array(U_scores)\n",
    "      \n",
    "      # sort the items based on their prediction value\n",
    "      predicted = list(reversed(U_scores.argsort()))[:top_k]\n",
    "      actual = ground_truth[uid]\n",
    "      \n",
    "      # compute each user's precision and recall\n",
    "      precision_UB.append(precisionk(actual, predicted[:10]))     \n",
    "      recall_UB.append(recallk(actual, predicted[:10]))\n",
    "      \n",
    "  print(\"pre@10:\", np.mean(precision_UB), \"rec@10:\", np.mean(recall_UB))    "
   ]
  },
  {
   "cell_type": "code",
   "execution_count": 13,
   "metadata": {
    "colab": {
     "base_uri": "https://localhost:8080/",
     "height": 68
    },
    "colab_type": "code",
    "id": "YbzOmVD2N6Gj",
    "outputId": "3b914dac-fd73-42d3-b328-4e666626b536"
   },
   "outputs": [
    {
     "name": "stdout",
     "output_type": "stream",
     "text": [
      "Training User-based Collaborative Filtering...\n",
      "Done. Elapsed time: 0.21466422080993652 s\n",
      "pre@10: 0.045 rec@10: 0.029128869480040426\n"
     ]
    }
   ],
   "source": [
    "# Now, you can run the user-based CF\n",
    "ub_runer()"
   ]
  },
  {
   "cell_type": "markdown",
   "metadata": {
    "colab_type": "text",
    "id": "o_UKAy0Q9zJG"
   },
   "source": [
    "## Matrix Factorization (MF)\n",
    "Another technique commonly used for these types of problems is matrix factorization. The idea of this method is to take the original visit count matrix, and then decompose it to two much smaller matrices that approximate the original matrix when multiplied together. You can find more about MF in [quuxlbs blog post](http://www.quuxlabs.com/blog/2010/09/matrix-factorization-a-simple-tutorial-and-implementation-in-python/). Here, based on [2], we use a version of matrix factorization called __Poisson Factor Model__. "
   ]
  },
  {
   "cell_type": "markdown",
   "metadata": {
    "colab_type": "text",
    "id": "TTfDm-NLFwiG"
   },
   "source": [
    "### Matrix Factorization: Poisson Factor Model [3]"
   ]
  },
  {
   "cell_type": "code",
   "execution_count": 14,
   "metadata": {
    "colab": {},
    "colab_type": "code",
    "id": "h9NEiQBCFw-6"
   },
   "outputs": [],
   "source": [
    "class PoissonFactorModel(object):\n",
    "  def __init__(self, K=30, alpha=20.0, beta=0.2):\n",
    "    self.K = K\n",
    "    self.alpha = alpha\n",
    "    self.beta = beta\n",
    "    self.U, self.L = None, None\n",
    "\n",
    "  def train(self, sparse_check_in_matrix, max_iters=50, learning_rate=1e-4):\n",
    "    ctime = time.time()\n",
    "    print(\"Training PFM...\", )\n",
    "\n",
    "    alpha = self.alpha\n",
    "    beta = self.beta\n",
    "    K = self.K\n",
    "\n",
    "    F = sparse_check_in_matrix\n",
    "    M, N = sparse_check_in_matrix.shape\n",
    "    \n",
    "    # initialize the vectors randomly\n",
    "    U = 0.5 * np.sqrt(np.random.gamma(alpha, beta, (M, K))) / K\n",
    "    L = 0.5 * np.sqrt(np.random.gamma(alpha, beta, (N, K))) / K\n",
    "\n",
    "    F = F.tocoo()\n",
    "    entry_index = list(zip(F.row, F.col))\n",
    "\n",
    "    F = F.tocsr()\n",
    "    F_dok = F.todok()\n",
    "\n",
    "    tau = 10\n",
    "    last_loss = float('Inf')\n",
    "    for iters in range(max_iters):\n",
    "      F_Y = F_dok.copy()\n",
    "      for i, j in entry_index:\n",
    "        F_Y[i, j] = 1.0 * F_dok[i, j] / U[i].dot(L[j]) - 1\n",
    "      F_Y = F_Y.tocsr()\n",
    "\n",
    "      learning_rate_k = learning_rate * tau / (tau + iters)\n",
    "      \n",
    "      # update the user and location (POI) vector\n",
    "      U += learning_rate_k * (F_Y.dot(L) + (alpha - 1) / U - 1 / beta)\n",
    "      L += learning_rate_k * ((F_Y.T).dot(U) + (alpha - 1) / L - 1 / beta)\n",
    "\n",
    "      loss = 0.0\n",
    "      for i, j in entry_index:\n",
    "        loss += (F_dok[i, j] - U[i].dot(L[j]))**2\n",
    "\n",
    "      print('Iteration:', iters,  'loss:', loss)\n",
    "\n",
    "      if loss > last_loss:\n",
    "        print(\"Early termination.\")\n",
    "        break\n",
    "        last_loss = loss\n",
    "\n",
    "      print(\"Done. Elapsed time:\", time.time() - ctime, \"s\")\n",
    "      self.U, self.L = U, L\n",
    "      \n",
    "  # return the predicted value (inner product of vectors)\n",
    "  def predict(self, uid, lid):\n",
    "    return self.U[uid].dot(self.L[lid])"
   ]
  },
  {
   "cell_type": "markdown",
   "metadata": {
    "colab_type": "text",
    "id": "D4jOnzqBYJ2Z"
   },
   "source": [
    "### Recommendation by the Matrix Factoriztion"
   ]
  },
  {
   "cell_type": "code",
   "execution_count": 15,
   "metadata": {
    "colab": {},
    "colab_type": "code",
    "id": "UeV5UG_5YOx9"
   },
   "outputs": [],
   "source": [
    "# This function is similar to the ub_runer() function\n",
    "\n",
    "def mf_runer():\n",
    "  \n",
    "  top_k = 100\n",
    "  \n",
    "  del precision_MF[:]\n",
    "  del recall_MF[:]\n",
    "  \n",
    "  \n",
    "  PFM = PoissonFactorModel(K=30, alpha=20.0, beta=0.2)\n",
    "  PFM.train(sparse_training_matrix, max_iters=10, learning_rate=1e-4)\n",
    "  \n",
    "  all_uids = list(range(n_users))\n",
    "  all_lids = list(range(n_locations))\n",
    "  np.random.shuffle(all_uids)\n",
    "    \n",
    "  for cnt, uid in enumerate(all_uids):\n",
    "    if (int(cnt) != 0 and int(cnt) % 100 == 0):\n",
    "      print(\"Passed\", int(cnt), \"/\", n_users, \"by Precision@10 and Recall@10: \",  np.mean(precision_MF), \"and\", np.mean(recall_MF))\n",
    "    if uid in ground_truth:\n",
    "      overall_scores = [PFM.predict(uid, lid)\n",
    "                        if training_matrix[uid, lid] == 0 else -1\n",
    "                        for lid in all_lids]     \n",
    "      \n",
    "      overall_scores = np.array(overall_scores)\n",
    "\n",
    "      predicted = list(reversed(overall_scores.argsort()))[:top_k]\n",
    "      actual = ground_truth[uid]\n",
    "      \n",
    "      precision_MF.append(precisionk(actual, predicted[:10]))\n",
    "      recall_MF.append(recallk(actual, predicted[:10]))\n",
    "      \n",
    "  print(\">> Finally Precision@10:\", np.mean(precision_MF), \"Recall@10:\", np.mean(recall_MF))"
   ]
  },
  {
   "cell_type": "code",
   "execution_count": 16,
   "metadata": {
    "colab": {
     "base_uri": "https://localhost:8080/",
     "height": 391
    },
    "colab_type": "code",
    "id": "RvjR4qnjYvs8",
    "outputId": "b87a8049-564c-4f27-8778-0b76ab97f63d"
   },
   "outputs": [
    {
     "name": "stdout",
     "output_type": "stream",
     "text": [
      "Training PFM...\n",
      "Iteration: 0 loss: 153804.6466924741\n",
      "Done. Elapsed time: 0.45594191551208496 s\n",
      "Iteration: 1 loss: 150392.2329277504\n",
      "Done. Elapsed time: 0.8984389305114746 s\n",
      "Iteration: 2 loss: 147679.71908446436\n",
      "Done. Elapsed time: 1.3494558334350586 s\n",
      "Iteration: 3 loss: 145458.23821262922\n",
      "Done. Elapsed time: 1.7642900943756104 s\n",
      "Iteration: 4 loss: 143608.63690096192\n",
      "Done. Elapsed time: 2.1822099685668945 s\n",
      "Iteration: 5 loss: 142051.464637633\n",
      "Done. Elapsed time: 2.699350118637085 s\n",
      "Iteration: 6 loss: 140729.79860856428\n",
      "Done. Elapsed time: 3.17022705078125 s\n",
      "Iteration: 7 loss: 139601.10535289926\n",
      "Done. Elapsed time: 3.600219964981079 s\n",
      "Iteration: 8 loss: 138632.6859252523\n",
      "Done. Elapsed time: 4.003270864486694 s\n",
      "Iteration: 9 loss: 137798.8645074791\n",
      "Done. Elapsed time: 4.416164875030518 s\n",
      ">> Finally Precision@10: 0.027000000000000003 Recall@10: 0.01745983366975592\n"
     ]
    }
   ],
   "source": [
    "mf_runer()"
   ]
  },
  {
   "cell_type": "markdown",
   "metadata": {
    "colab_type": "text",
    "id": "PPm-YQPAY2Ep"
   },
   "source": [
    "## Context Information"
   ]
  },
  {
   "cell_type": "markdown",
   "metadata": {
    "colab_type": "text",
    "id": "Wf2A4gT99h4Q"
   },
   "source": [
    "One of the most important context information for location-based recommendation is geographical information. Geographical (or _spatial_) information allows us to focus recommendations on locations close to the user, keeping our recommendations relevant as a user travels. Users tend to check-in around several centers, where the check-in locations follow a Gaussian distribution at each center. The following code segment shows that a typical user’s check-in behavior appear around a number of centers."
   ]
  },
  {
   "cell_type": "code",
   "execution_count": 17,
   "metadata": {
    "colab": {
     "base_uri": "https://localhost:8080/",
     "height": 750
    },
    "colab_type": "code",
    "id": "excCJaGeo9hB",
    "outputId": "8208d552-42e3-41c6-a984-077f6b166cdd"
   },
   "outputs": [
    {
     "data": {
      "text/html": [
       "<div style=\"width:100%;\"><div style=\"position:relative;width:100%;height:0;padding-bottom:60%;\"><iframe src=\"data:text/html;charset=utf-8;base64,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\" style=\"position:absolute;width:100%;height:100%;left:0;top:0;border:none !important;\" allowfullscreen webkitallowfullscreen mozallowfullscreen></iframe></div></div>"
      ],
      "text/plain": [
       "<folium.folium.Map at 0x1a10887ac8>"
      ]
     },
     "execution_count": 17,
     "metadata": {},
     "output_type": "execute_result"
    }
   ],
   "source": [
    "# which user's check-ins distribution want to show?\n",
    "which_user = 0\n",
    "\n",
    "locationlist = []\n",
    "# get the locations that have been checked-in by which_user\n",
    "for user_checkins in range(training_matrix.shape[0]):\n",
    "  if user_checkins == which_user:\n",
    "    locations = training_matrix[user_checkins].nonzero()\n",
    "  break\n",
    "  \n",
    "for locs in locations:\n",
    "  for loc in locs:\n",
    "    lat, lng = poi_coos[loc]\n",
    "    # Make a list with the coordinates of each location\n",
    "    locationlist.append([lat, lng])\n",
    "\n",
    "# Open a map and initialize it with the coordinates\n",
    "map = folium.Map(location=locationlist[0], zoom_start=5)\n",
    "# add to the map all different locations\n",
    "for point in range(0, len(locationlist)):\n",
    "    folium.Marker(locationlist[point]).add_to(map)\n",
    "map"
   ]
  },
  {
   "cell_type": "markdown",
   "metadata": {
    "colab_type": "text",
    "id": "iarhCXloPGqQ"
   },
   "source": [
    "### Geographical Information: Multi-center Gaussian Model [3]"
   ]
  },
  {
   "cell_type": "markdown",
   "metadata": {
    "colab_type": "text",
    "id": "ttZljKD5_C_A"
   },
   "source": [
    "Here, we consider the geographical influence based on the idea mentioned above. Then, we fuse the geographical influence into our MF method to show the impact of contextual information."
   ]
  },
  {
   "cell_type": "markdown",
   "metadata": {
    "colab_type": "text",
    "id": "cM_EmZK2YKZ4"
   },
   "source": [
    "#### Find the distance between to location points"
   ]
  },
  {
   "cell_type": "code",
   "execution_count": 18,
   "metadata": {
    "colab": {},
    "colab_type": "code",
    "id": "YZfRRK_JYIH8"
   },
   "outputs": [],
   "source": [
    "# Calculate the distnace between two given POIs or locations\n",
    "def dist(loc1, loc2):\n",
    "    lat1, long1 = loc1.lat, loc1.lng\n",
    "    lat2, long2 = loc2.lat, loc2.lng\n",
    "    if abs(lat1 - lat2) < 1e-6 and abs(long1 - long2) < 1e-6:\n",
    "        return 0.0\n",
    "    degrees_to_radians = math.pi/180.0\n",
    "    phi1 = (90.0 - lat1)*degrees_to_radians\n",
    "    phi2 = (90.0 - lat2)*degrees_to_radians\n",
    "    theta1 = long1*degrees_to_radians\n",
    "    theta2 = long2*degrees_to_radians\n",
    "    cos = (math.sin(phi1)*math.sin(phi2)*math.cos(theta1 - theta2) +\n",
    "           math.cos(phi1)*math.cos(phi2))\n",
    "    arc = math.acos(cos)\n",
    "    earth_radius = 6371\n",
    "    return arc * earth_radius"
   ]
  },
  {
   "cell_type": "markdown",
   "metadata": {
    "colab_type": "text",
    "id": "1JUtm3ohYQTI"
   },
   "source": [
    "#### The geographical approach\n",
    "The final score by Multi-center Gaussian Model is calculated according to the following equation:\n",
    "\n",
    "$P(l|C_u)=\\sum_{c_u=1}^{|C_u|}P(l\\in{C_u})\\frac{f_{c_u}^{\\alpha}}{\\sum_{i\\in{C_u}}f_{i}^{\\alpha}}\\frac{N(l|\\mu_{c_u},\\sum_{c_u})}{\\sum_{i\\in{C_u}}N(l|\\mu_{i},\\sum_{i})}$ (Eq 1. in [3])"
   ]
  },
  {
   "cell_type": "code",
   "execution_count": 19,
   "metadata": {
    "colab": {},
    "colab_type": "code",
    "id": "9BYmxP8yFYdh"
   },
   "outputs": [],
   "source": [
    "class Location(object):\n",
    "    def __init__(self, id, lat, lng, freq, center=-1):\n",
    "        self.id = id\n",
    "        self.lat = lat\n",
    "        self.lng = lng\n",
    "        self.freq = freq\n",
    "        self.center = center\n",
    "\n",
    "\n",
    "class Center(object):\n",
    "    def __init__(self):\n",
    "        self.locations = []\n",
    "        self.total_freq = 0\n",
    "        self.distribution = None\n",
    "        self.mu = None\n",
    "        self.cov = None\n",
    "        self.lat = None\n",
    "        self.lng = None\n",
    "\n",
    "    def add(self, loc):\n",
    "        self.locations.append(loc)\n",
    "        self.total_freq += loc.freq\n",
    "\n",
    "    def build_gaussian(self):\n",
    "        coo_seq = []\n",
    "        for loc in self.locations:\n",
    "            for _ in range(int(loc.freq)):\n",
    "                coo_seq.append(np.array([loc.lat, loc.lng]))\n",
    "        coo_seq = np.array(coo_seq)\n",
    "        self.mu = np.mean(coo_seq, axis=0)\n",
    "        self.cov = np.cov(coo_seq.T)\n",
    "        self.distribution = multivariate_normal(self.mu, self.cov, allow_singular=True)\n",
    "        self.lat = self.mu[0]\n",
    "        self.lng = self.mu[1]\n",
    "\n",
    "    def pdf(self, x):\n",
    "        return self.distribution.pdf(np.array([x.lat, x.lng]))\n",
    "\n",
    "\n",
    "class MultiGaussianModel(object):\n",
    "    def __init__(self, alpha=0.2, theta=0.02, dmax=15):\n",
    "        self.alpha = alpha\n",
    "        self.theta = theta\n",
    "        self.dmax = dmax\n",
    "        self.poi_coos = None\n",
    "        self.center_list = None\n",
    "\n",
    "    def build_user_check_in_profile(self, sparse_check_in_matrix):\n",
    "        L = defaultdict(list)\n",
    "        for (uid, lid), freq in sparse_check_in_matrix.items():\n",
    "            lat, lng = self.poi_coos[lid]\n",
    "            L[uid].append(Location(lid, lat, lng, freq))\n",
    "        return L\n",
    "\n",
    "    # Find the centers of each users based on the Algorithm 1 in [2]  \n",
    "    def discover_user_centers(self, Lu):\n",
    "        center_min_freq = max(sum([loc.freq for loc in Lu]) * self.theta, 2)\n",
    "        Lu.sort(key=lambda k: k.freq, reverse=True)\n",
    "        center_list = []\n",
    "        center_num = 0\n",
    "        for i in range(len(Lu)):\n",
    "            if Lu[i].center == -1:\n",
    "                center_num += 1\n",
    "                center = Center()\n",
    "                center.add(Lu[i])\n",
    "                Lu[i].center = center_num\n",
    "                for j in range(i+1, len(Lu)):\n",
    "                    if Lu[j].center == -1 and dist(Lu[i], Lu[j]) <= self.dmax:\n",
    "                        Lu[j].center = center_num\n",
    "                        center.add(Lu[j])\n",
    "                if center.total_freq >= center_min_freq:\n",
    "                    center_list.append(center)\n",
    "        return center_list\n",
    "\n",
    "    # calculate the gussain for the related POI at each center\n",
    "    def multi_center_discovering(self, sparse_check_in_matrix, poi_coos):\n",
    "        self.poi_coos = poi_coos\n",
    "        L = self.build_user_check_in_profile(sparse_check_in_matrix)\n",
    "\n",
    "        center_list = {}\n",
    "        for uid in range(len(L)):\n",
    "            center_list[uid] = self.discover_user_centers(L[uid])\n",
    "            for cid in range(len(center_list[uid])):\n",
    "                center_list[uid][cid].build_gaussian()\n",
    "        self.center_list = center_list\n",
    "\n",
    "    # Return the calculated value as the score    \n",
    "    def predict(self, uid, lid):\n",
    "        lat, lng = self.poi_coos[lid]\n",
    "        l = Location(None, lat, lng, None)\n",
    "\n",
    "        prob = 0.0\n",
    "        if uid in self.center_list:\n",
    "            all_center_freq = sum([cid.total_freq**self.alpha for cid in self.center_list[uid]])\n",
    "            all_center_pdf = sum([cid.pdf(l) for cid in self.center_list[uid]])\n",
    "            if not all_center_pdf == 0:\n",
    "                for cu in self.center_list[uid]:\n",
    "                    prob += (\n",
    "                        1.0 / (dist(l, cu) + 1) *\n",
    "                        (cu.total_freq**self.alpha) / all_center_freq *\n",
    "                        cu.pdf(l) / all_center_pdf)\n",
    "        return prob"
   ]
  },
  {
   "cell_type": "markdown",
   "metadata": {
    "colab_type": "text",
    "id": "IWf3nafNF2QV"
   },
   "source": [
    "### Run the Matrix Factorization with Multi-Center Geographical Model [3] (MFG)\n",
    "For this purpose, the MF method will be fused with the MGM model. The final recommendation score is $P_{ul}=P(F_{ul}).P(l|C_u)$ where $P(F_{ul})$ is acquired from MF and $P(l|C_u)$ is acquired from MGM."
   ]
  },
  {
   "cell_type": "code",
   "execution_count": 20,
   "metadata": {
    "colab": {},
    "colab_type": "code",
    "id": "6jEjVD33iXiw"
   },
   "outputs": [],
   "source": [
    "def mfg_runer():\n",
    "  \n",
    "  top_k = 100\n",
    "  \n",
    "  del precision_MFG[:]\n",
    "  del recall_MFG[:]\n",
    "  \n",
    "  PFM = PoissonFactorModel(K=30, alpha=20.0, beta=0.2)\n",
    "  PFM.train(sparse_training_matrix, max_iters=10, learning_rate=1e-4)\n",
    "  \n",
    "  print(\"Starting Multi-Center Gaussian Model ...\")\n",
    "  MGM = MultiGaussianModel(alpha=0.2, theta=0.02, dmax=15)\n",
    "  MGM.multi_center_discovering(sparse_training_matrix, poi_coos)\n",
    "  print(\"Done Multi-Center Gaussian Model.\")\n",
    "  \n",
    "  all_uids = list(range(n_users))\n",
    "  all_lids = list(range(n_locations))\n",
    "  np.random.shuffle(all_uids)\n",
    "    \n",
    "  for cnt, uid in enumerate(all_uids):\n",
    "    if (int(cnt) != 0 and int(cnt) % 100 == 0):\n",
    "      print(\"Passed\", int(cnt), \"/\", n_users, \"by Precision@10 and Recall@10: \",  np.mean(precision_MFG), \"and\", np.mean(recall_MFG))\n",
    "    if uid in ground_truth:\n",
    "      overall_scores = [PFM.predict(uid, lid) * MGM.predict(uid, lid)\n",
    "                        if training_matrix[uid, lid] == 0 else -1\n",
    "                        for lid in all_lids]     \n",
    "      \n",
    "      overall_scores = np.array(overall_scores)\n",
    "\n",
    "      predicted = list(reversed(overall_scores.argsort()))[:top_k]\n",
    "      actual = ground_truth[uid]\n",
    "      \n",
    "      precision_MFG.append(precisionk(actual, predicted[:10]))\n",
    "      recall_MFG.append(recallk(actual, predicted[:10]))\n",
    "      \n",
    "  print(\">> Finally Precision@10:\", np.mean(precision_MFG), \"Recall@10:\", np.mean(recall_MFG))   "
   ]
  },
  {
   "cell_type": "code",
   "execution_count": 21,
   "metadata": {
    "colab": {
     "base_uri": "https://localhost:8080/",
     "height": 425
    },
    "colab_type": "code",
    "id": "1pQcyEwaifTa",
    "outputId": "b38f4ea5-6c72-4bde-a353-ac0943acd6ed"
   },
   "outputs": [
    {
     "name": "stdout",
     "output_type": "stream",
     "text": [
      "Training PFM...\n",
      "Iteration: 0 loss: 153756.9340099095\n",
      "Done. Elapsed time: 0.42464518547058105 s\n",
      "Iteration: 1 loss: 150345.6249388786\n",
      "Done. Elapsed time: 0.8175218105316162 s\n",
      "Iteration: 2 loss: 147633.7291258644\n",
      "Done. Elapsed time: 1.2159099578857422 s\n",
      "Iteration: 3 loss: 145412.73761428182\n",
      "Done. Elapsed time: 1.640434980392456 s\n",
      "Iteration: 4 loss: 143563.5865373208\n",
      "Done. Elapsed time: 2.0435080528259277 s\n",
      "Iteration: 5 loss: 142006.85345896395\n",
      "Done. Elapsed time: 2.4830880165100098 s\n",
      "Iteration: 6 loss: 140685.62480364006\n",
      "Done. Elapsed time: 2.8502211570739746 s\n",
      "Iteration: 7 loss: 139557.36970378723\n",
      "Done. Elapsed time: 3.253411054611206 s\n",
      "Iteration: 8 loss: 138589.38933528026\n",
      "Done. Elapsed time: 3.678169012069702 s\n",
      "Iteration: 9 loss: 137756.00711654316\n",
      "Done. Elapsed time: 4.069010972976685 s\n",
      "Starting Multi-Center Gaussian Model ...\n",
      "Done Multi-Center Gaussian Model.\n",
      ">> Finally Precision@10: 0.042 Recall@10: 0.0269395778054627\n"
     ]
    }
   ],
   "source": [
    "mfg_runer()"
   ]
  },
  {
   "cell_type": "markdown",
   "metadata": {
    "colab_type": "text",
    "id": "Xh4GBlODFf0l"
   },
   "source": [
    "## Expriment Comparsion"
   ]
  },
  {
   "cell_type": "code",
   "execution_count": 22,
   "metadata": {
    "colab": {
     "base_uri": "https://localhost:8080/",
     "height": 401
    },
    "colab_type": "code",
    "id": "SnTpHs2SCizH",
    "outputId": "8012bdec-9702-41e9-9587-5cf98dd2de81"
   },
   "outputs": [
    {
     "data": {
      "image/png": "[encoded data removed]",
      "text/plain": [
       "<Figure size 432x288 with 1 Axes>"
      ]
     },
     "metadata": {},
     "output_type": "display_data"
    }
   ],
   "source": [
    "# data to plot\n",
    "n_groups = 3\n",
    "means_precision = (np.mean(precision_UB), np.mean(precision_MF), np.mean(precision_MFG))\n",
    "means_recall = (np.mean(recall_UB), np.mean(recall_MF), np.mean(recall_MFG))\n",
    "\n",
    " \n",
    "# create plot\n",
    "fig, ax = plt.subplots()\n",
    "index = np.arange(n_groups)\n",
    "bar_width = 0.25\n",
    "opacity = 0.8\n",
    " \n",
    "rects1 = plt.bar(index, means_precision, bar_width,\n",
    "alpha=opacity,\n",
    "label='Precision')\n",
    " \n",
    "rects2 = plt.bar(index + bar_width, means_recall, bar_width,\n",
    "alpha=opacity,\n",
    "label='Recall')\n",
    " \n",
    "plt.xlabel('Methods')\n",
    "plt.ylabel('Precision and Recall')\n",
    "plt.title('Results')\n",
    "plt.xticks(index + 0.1, ('UB', 'MF', 'MFG'))\n",
    "plt.legend()\n",
    " \n",
    "plt.tight_layout()\n",
    "plt.show()"
   ]
  },
  {
   "cell_type": "markdown",
   "metadata": {
    "colab_type": "text",
    "id": "Ft3GCk70A5Y5"
   },
   "source": [
    "### Significance of the results\n",
    "The bar chart above compares the result of recommendation based on a User-Based (UB) approach, Matrix Factorization (MF), and Matrix Factorization with geographical influence (MFG). You already see some differences in the bar charts above. However, to show whether the difference achieved in the results is significant or not (i.e. there is a significant difference between the means of two distributions) you can use the _t-Test_. For this purpose, you need to run _t-Test_ for each result based on each metric. You can find more details in the following link and see how to use _t-Test_ in python with Scipy: [t-Test in Scipy](https://docs.scipy.org/doc/scipy/reference/generated/scipy.stats.ttest_ind.html)"
   ]
  },
  {
   "cell_type": "markdown",
   "metadata": {
    "colab_type": "text",
    "id": "7XKM8x0e9vZW"
   },
   "source": [
    "### Conclusion\n",
    "As you can see in the plot that the UB method is outperforming other methods. Not achieving better performance form MF-based methods can be due to the inadequate size of the dataset used. Here, the size of the dataset is very small (100 users). The _user-based_ approach uses all of the users' and items' information.  When the number of users and items grow, the MF approaches will show their performance gain better. Furthermore, you can see that MFG is outperforming MF. This shows the impact of context information in modeling users' behavior."
   ]
  },
  {
   "cell_type": "markdown",
   "metadata": {
    "colab_type": "text",
    "id": "eNt6JUTTY0xt"
   },
   "source": [
    "## Acknowledgement\n",
    "For implemenation we got some information and inspiration of the codes that provided by the following paper:  \n",
    "__ [1] Liu, Yiding, et al. \"An experimental evaluation of point-of-interest recommendation in location-based social networks.\" in VLDB, 2017__"
   ]
  },
  {
   "cell_type": "markdown",
   "metadata": {
    "colab_type": "text",
    "id": "vJUOWKG0UdTI"
   },
   "source": [
    "## References\n",
    "\n",
    "__ [2] Ye, Mao, et al. \"Exploiting geographical influence for collaborative point-of-interest recommendation\" in SIGIR, 2011.__  \n",
    "__ [3] Cheng, Chen, et al. \"Fused matrix factorization with geographical and social influence in location-based social networks\", in AAAI, 2012.__"
   ]
  },
  {
   "cell_type": "code",
   "execution_count": null,
   "metadata": {},
   "outputs": [],
   "source": []
  }
 ],
 "metadata": {
  "colab": {
   "collapsed_sections": [],
   "name": "POI Recommender Systems.ipynb",
   "provenance": [],
   "version": "0.3.2"
  },
  "kernelspec": {
   "display_name": "Python 3",
   "language": "python",
   "name": "python3"
  },
  "language_info": {
   "codemirror_mode": {
    "name": "ipython",
    "version": 3
   },
   "file_extension": ".py",
   "mimetype": "text/x-python",
   "name": "python",
   "nbconvert_exporter": "python",
   "pygments_lexer": "ipython3",
   "version": "3.6.5"
  }
 },
 "nbformat": 4,
 "nbformat_minor": 1
}
