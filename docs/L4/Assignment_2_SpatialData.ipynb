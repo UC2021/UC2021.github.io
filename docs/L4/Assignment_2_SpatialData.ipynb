{
  "nbformat": 4,
  "nbformat_minor": 0,
  "metadata": {
    "colab": {
      "name": "Assignment_2_SpatialData.ipynb",
      "provenance": []
    },
    "kernelspec": {
      "display_name": "Python 3",
      "language": "python",
      "name": "python3"
    },
    "language_info": {
      "codemirror_mode": {
        "name": "ipython",
        "version": 3
      },
      "file_extension": ".py",
      "mimetype": "text/x-python",
      "name": "python",
      "nbconvert_exporter": "python",
      "pygments_lexer": "ipython3",
      "version": "3.6.0"
    }
  },
  "cells": [
    {
      "cell_type": "markdown",
      "metadata": {
        "id": "qx5CKsL7w0hO"
      },
      "source": [
        "**Student Name:**          "
      ]
    },
    {
      "cell_type": "markdown",
      "metadata": {
        "id": "wCUy75rbw0hR"
      },
      "source": [
        "**Student Number: **"
      ]
    },
    {
      "cell_type": "code",
      "metadata": {
        "id": "2qhWRhFh0eXO"
      },
      "source": [
        ""
      ],
      "execution_count": null,
      "outputs": []
    },
    {
      "cell_type": "markdown",
      "metadata": {
        "id": "z45FwNxZw0hT"
      },
      "source": [
        "In this assignment, you will be asked to use your knowledge about spatial correlation functions and spatial weights to visualize several world bank data sets. Please be aware that your code is only part of the grade (60%). The actual visualization as well as your analytical approach in interpretation of the results will be graded as well (40%). The dealine for this assignemnt is **on 13th of October 2020, 23:59 PM**.\n",
        "\n",
        "\n",
        "***Submit the notebook, the pdf, and the html version of your notebook via Brighspace***. Please use your studentnumber as file name (i.e. s145678.pdf and s145678.ipny). \n",
        "\n",
        "Tasks:\n",
        "\n",
        "    1) select 2 SDGs \n",
        "    2) formulate your research question \n",
        "    3) transform data into weight matrices, plot a Moran's plot and interpret it\n",
        "    4) display data in Choropleth Map \n",
        "    5) answer your research question in a 200 word summary\n",
        " "
      ]
    },
    {
      "cell_type": "markdown",
      "metadata": {
        "id": "LhlR6w2qw0hW"
      },
      "source": [
        "***Task 1***"
      ]
    },
    {
      "cell_type": "markdown",
      "metadata": {
        "id": "pULi3Jovw0hX"
      },
      "source": [
        "On this website: https://www.un.org/sustainabledevelopment/sustainable-development-goals/ the UN summarizes their sustainable development goals (SDGs). \n",
        "\n",
        "Select two goals to work on for this assignment.\n"
      ]
    },
    {
      "cell_type": "markdown",
      "metadata": {
        "id": "m1ZfzjTtw0ha"
      },
      "source": [
        "**I will be working on these two goals:**\n",
        "    "
      ]
    },
    {
      "cell_type": "markdown",
      "metadata": {
        "id": "hhWySj0hw0hc"
      },
      "source": [
        ""
      ]
    },
    {
      "cell_type": "markdown",
      "metadata": {
        "id": "Gme3qsUXw0he"
      },
      "source": [
        "We would like you to focus on the African Continent for this exercise. Find shapefiles for the map of Africa and let us know where you found the shapefiles. Also let us know in which year the shapefiles were created and this is relevant (hint: South Sudan). You might be able to find different shapefiles. Analyze your shapefiles. Like with any kind of \"real\" data, shapefiles can have *obstacles* that must be dealt with. For example, if your shapefile has islands, how do you define their adjacent countries? Shapefiles can also have *defects*. For example, an out of date shapefile might show old borders of a country, from when it used to border on another country that it's no longer adjacent to. Of course, if you're displaying historical data, that might be appropriate.\n",
        "We want you to examine your shapefiles for obstacles, defects and other peculiarities. How will you handle them? Motivate your choice to use these specific shapefiles."
      ]
    },
    {
      "cell_type": "markdown",
      "metadata": {
        "id": "kPlCTLo1w0hh"
      },
      "source": [
        "**Link to shapefiles:** "
      ]
    },
    {
      "cell_type": "markdown",
      "metadata": {
        "id": "I7y--GtOw0hj"
      },
      "source": [
        ""
      ]
    },
    {
      "cell_type": "markdown",
      "metadata": {
        "id": "l4Xs_xi4w0hk"
      },
      "source": [
        "**Year shapefiles were created:**"
      ]
    },
    {
      "cell_type": "markdown",
      "metadata": {
        "id": "3jlVOjKew0hm"
      },
      "source": [
        ""
      ]
    },
    {
      "cell_type": "markdown",
      "metadata": {
        "id": "JpKaCqCYBeBE"
      },
      "source": [
        "**Motivation for selecting the shapefile:**"
      ]
    },
    {
      "cell_type": "markdown",
      "metadata": {
        "id": "xPzBYRnGw0hn"
      },
      "source": [
        "***Task 2***"
      ]
    },
    {
      "cell_type": "markdown",
      "metadata": {
        "id": "AiGZAGmxw0ho"
      },
      "source": [
        "For every SDG, you can find \"Goal x targets\" on the UN website. Use these targets to formulate at least one question per SDG (i.e., at least two questions that you want to answer). The question can be about the current state of a SDG in Africa, comparing countries/regions within Africa or a longitudinal comparison of a region. \n",
        "\n",
        "Make your researchquestion concrete. Something like \"What is the state of SDG 7 in Africa?\" is too broad. Something like: \"Using variable x a proxy for the development of SDG 7, how do the West-African Countries fare compared to the rest of Africa?\" is much more concrete, and narrows your question down to an achievable outcome. It also gives you something to discuss in your report.   \n",
        "\n",
        "Discuss your research question on the Blackboard forum if you are not sure. Help each other, also by asking for help if you are not used to formulate research questions yourself! \n",
        "\n",
        "\n",
        "We will answer questions and doubts about research questions on the Blackboard forum until **October 6th**. That means: if you would like to have us check your question before you continue working on this assignment, make sure you post it until October 6th, we will answer as quickly as possible. After October 6th , we will not check individual research questions, but you will still be able to see what we answered and you can refer to the forum as a guideline. \n"
      ]
    },
    {
      "cell_type": "markdown",
      "metadata": {
        "id": "b-TgLFDDw0hq"
      },
      "source": [
        "**My research questions:**\n",
        "\n",
        "***1st question:***\n",
        "\n",
        "***2nd question:***"
      ]
    },
    {
      "cell_type": "markdown",
      "metadata": {
        "id": "zhkwAksvw0hs"
      },
      "source": [
        "On the worldbank website, you can easily find matching data: https://datacatalog.worldbank.org/dataset/sustainable-development-goals. You are free to use other data sources. Make sure to share them with us though. \n",
        "\n",
        "**Important:**\n",
        "\n",
        "! We want to re-run your analyses, so please include a link to the data that you are using in your submission!\n",
        "\n",
        "\n"
      ]
    },
    {
      "cell_type": "markdown",
      "metadata": {
        "id": "PhMSOZJRw0hu"
      },
      "source": [
        "**Links to data: **"
      ]
    },
    {
      "cell_type": "markdown",
      "metadata": {
        "id": "qGMe8h_Lw0hx"
      },
      "source": [
        ""
      ]
    },
    {
      "cell_type": "markdown",
      "metadata": {
        "id": "IhupTGNNw0h0"
      },
      "source": [
        "**Task 3**"
      ]
    },
    {
      "cell_type": "markdown",
      "metadata": {
        "id": "nOiQJQ3kw0h1"
      },
      "source": [
        "In Lab 4 (http://darribas.org/gds16/labs/Lab_04.html) by Dani Arribas, you can see examples of weight matrices and at the end an explanation of spatial lag and the Morans plot (Watch out, this is not Moran's I/ Moran's spatial autocorrelation, which is also often calculated in spatial analytics). \n",
        "Read and understand the concept of spatial lag first. In a Moran's plot, you can show how the value of a variable relates to it's spatial lag (or the average of this value in the surrounding areas). \n",
        "\n",
        "Your tasks:\n",
        "\n",
        "Create two Morans plots based on the variables related to your research questions and interpret them: \n",
        "\n",
        "What can you say about the entire continent?\n",
        "\n",
        "Can you find meaningful subregions? \n",
        "\n",
        "What if you use block weights around those subregions and re-run the analysis? "
      ]
    },
    {
      "cell_type": "code",
      "metadata": {
        "id": "V3Dltrlrw0h2"
      },
      "source": [
        "#Spatial lag, Morans Plot"
      ],
      "execution_count": null,
      "outputs": []
    },
    {
      "cell_type": "markdown",
      "metadata": {
        "id": "1L-XIye8w0h7"
      },
      "source": [
        "**Interpretation:**"
      ]
    },
    {
      "cell_type": "markdown",
      "metadata": {
        "id": "du_oU-_6w0h-"
      },
      "source": [
        ""
      ]
    },
    {
      "cell_type": "markdown",
      "metadata": {
        "id": "nnyjEEr2w0iA"
      },
      "source": [
        "***Task 4***"
      ]
    },
    {
      "cell_type": "markdown",
      "metadata": {
        "id": "o5JDbgbqw0iD"
      },
      "source": [
        "Use the same two variables you used in Task 3 and create a Choropleth Map. A choropleth map is a type of map which uses differences in shading, colouring, or the placing of symbols within predefined areas to indicate the average values of a particular quantity in those areas. Do a research on color-blindness and how to avoid it in creating visualisation. Choose a color-blind proof colour combination. Indicate where you found it and why you trust it with color-blind proofness. \n",
        "\n",
        "\n",
        "Does the map correspond to the findings in Morans plot?\n"
      ]
    },
    {
      "cell_type": "markdown",
      "metadata": {
        "id": "IfRZoyebw0iF"
      },
      "source": [
        "**Chosen Colour map**: "
      ]
    },
    {
      "cell_type": "code",
      "metadata": {
        "id": "YXIYhRuTw0iG"
      },
      "source": [
        "#Choropleth Map"
      ],
      "execution_count": null,
      "outputs": []
    },
    {
      "cell_type": "markdown",
      "metadata": {
        "id": "YH2z2WA9w0iK"
      },
      "source": [
        "**Interpretation:**"
      ]
    },
    {
      "cell_type": "markdown",
      "metadata": {
        "id": "byLKma1lw0iK"
      },
      "source": [
        ""
      ]
    },
    {
      "cell_type": "markdown",
      "metadata": {
        "id": "GMxlIdC8w0iL"
      },
      "source": [
        "Choropleth map is a basic form of visualization for spatial data. We will have a dedicated lecture to talk about other forms of visualization for spatio-temporal data. A cartogram is a type of map in which some mapping variable – such as travel time, or population is substituted for land area or distance. When you create a cartogram the geometry or space of the map will become distorted, sometimes extremely, in order to convey the information of this alternate variable. Search the web to find more about cartograms. Can you find a way to create a cartogram for this assignment in python? We are looking forward to your solutions!"
      ]
    },
    {
      "cell_type": "code",
      "metadata": {
        "id": "bKpQ07cBw0iM"
      },
      "source": [
        "#Cartograms"
      ],
      "execution_count": null,
      "outputs": []
    },
    {
      "cell_type": "markdown",
      "metadata": {
        "id": "IKrnc1kuw0iO"
      },
      "source": [
        "***Task 5***"
      ]
    },
    {
      "cell_type": "markdown",
      "metadata": {
        "id": "h9OjKW1fw0iP"
      },
      "source": [
        "You visualized two variables related to your research questions. How would you interpret your findings and how does it help you to answer your research question? Which extra variables would you like to use, what information are you missing? Try to answer your research question and don't shy away from suggesting future research. "
      ]
    },
    {
      "cell_type": "markdown",
      "metadata": {
        "collapsed": true,
        "id": "HR3lfrZ1w0iQ"
      },
      "source": [
        "**Answer your research question in no less than 200 and not more that 400 words:**"
      ]
    },
    {
      "cell_type": "markdown",
      "metadata": {
        "id": "LbFgvbSCw0iR"
      },
      "source": [
        "## How do we grade this assignment?\n",
        "Please pay attention to the following points. We consider these in calculating your final grade.\n",
        "\n",
        "First of all, we check if you have handed in the Jupyter notebook as well as a .pdf and .html version."
      ]
    },
    {
      "cell_type": "markdown",
      "metadata": {
        "id": "9r1N_JjT5r96"
      },
      "source": [
        "1st part\n",
        "\n",
        "\n",
        "1.   We inspect the access to the correct shapefile from the link you have provides.\n",
        "2.   We consider if the shapefile is suitable for answering your research quesiton.\n",
        "3. We consider your reasoning and motivation for selecting the shapefile.\n",
        "\n"
      ]
    },
    {
      "cell_type": "markdown",
      "metadata": {
        "id": "648KLNEJ6cqL"
      },
      "source": [
        "2nd part\n",
        "1. We consider the validity, scope and concretness of the questions.\n",
        "2. We inspect the data sources.\n"
      ]
    },
    {
      "cell_type": "markdown",
      "metadata": {
        "id": "ANzSrboP7Gt_"
      },
      "source": [
        "3rd part\n",
        "1. We consider the Moran plots.\n",
        "2. We consider the interpretations of the plots."
      ]
    },
    {
      "cell_type": "markdown",
      "metadata": {
        "id": "3JfE-Cdm7bmc"
      },
      "source": [
        "4th part\n",
        "1. We consider both maps.\n",
        "2. We consider the color scheme used in the maps and that a right process is used for selecting the color scheme."
      ]
    },
    {
      "cell_type": "markdown",
      "metadata": {
        "id": "TZKDmbeF-YE8"
      },
      "source": [
        "5th part \n",
        "1. We consider the quality of your report and if each research question is concretely asnwered. \n",
        "2. We consider your reflection on the data.\n",
        "3. We consider the inteprpretations deducted from the plots.\n",
        "4. We consider observations and interpretations based on additional analysis.\n"
      ]
    }
  ]
}