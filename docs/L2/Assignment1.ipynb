{
  "nbformat": 4,
  "nbformat_minor": 0,
  "metadata": {
    "colab": {
      "name": "Assignment1.ipynb",
      "provenance": [],
      "collapsed_sections": [],
      "toc_visible": true
    },
    "kernelspec": {
      "display_name": "Python 3",
      "language": "python",
      "name": "python3"
    },
    "language_info": {
      "codemirror_mode": {
        "name": "ipython",
        "version": 3
      },
      "file_extension": ".py",
      "mimetype": "text/x-python",
      "name": "python",
      "nbconvert_exporter": "python",
      "pygments_lexer": "ipython3",
      "version": "3.6.5"
    }
  },
  "cells": [
    {
      "cell_type": "markdown",
      "metadata": {
        "id": "bFBtMXR5sE9-",
        "colab_type": "text"
      },
      "source": [
        "# Assignment 1: Time-series data"
      ]
    },
    {
      "cell_type": "markdown",
      "metadata": {
        "colab_type": "text",
        "id": "qNa1G8WGQM_3"
      },
      "source": [
        "<b> This assignment consists of five parts: </b>\n",
        "\n",
        "1.   Create synthetic data to test the algorithm you design\n",
        "2.   Write two functions: (i) autocorrelation and (ii) period extraction function\n",
        "3.   Use a periodogram function \n",
        "4.   Compare sensitivity of the algorithms to typical imperfections that happen in real data (noise, missing data, random and non-periodic patterns)\n",
        "\n",
        "5.    Test the algorithms on geolife data\n",
        " \n"
      ]
    },
    {
      "cell_type": "markdown",
      "metadata": {
        "colab_type": "text",
        "id": "zGY4o3bCvNN8"
      },
      "source": [
        "Part 1. to 3. will make up **60% of your grade**, part 4. and 5. constitute **40% of your grade**."
      ]
    },
    {
      "cell_type": "markdown",
      "metadata": {
        "colab_type": "text",
        "id": "10aZqTKxxKbO"
      },
      "source": [
        "**WARNING: Make sure to read through the entire assignment before starting to code. The tasks build on each other!**"
      ]
    },
    {
      "cell_type": "markdown",
      "metadata": {
        "colab_type": "text",
        "id": "3CAIa-JQzsjY"
      },
      "source": [
        "Good luck with the assignment! Deadline is **September 22nd, at 23:55** hrs. Please hand in your .ipynb, .pdf, .html via Brightspace. \n"
      ]
    },
    {
      "cell_type": "markdown",
      "metadata": {
        "id": "sE6lbchVxNxm",
        "colab_type": "text"
      },
      "source": [
        "## 0th part: Prerequisites\n",
        "Please add any packages you use to the code cell below."
      ]
    },
    {
      "cell_type": "code",
      "metadata": {
        "id": "5GELy1Y9xZf-",
        "colab_type": "code",
        "colab": {}
      },
      "source": [
        "import numpy as np\n",
        "import matplotlib.pyplot as plt\n",
        "# etc."
      ],
      "execution_count": null,
      "outputs": []
    },
    {
      "cell_type": "markdown",
      "metadata": {
        "colab_type": "text",
        "id": "DxJvqttRQM_8"
      },
      "source": [
        "\n",
        "## 1st part: Create Synthetic Data\n",
        "\n",
        "Imagine that you have a GPS device to take measurements every 10 minutes. Simulate first a clean trajectory data with two periodicities for 365 days. The trajectory data should include two types of periodicities (e.g., one daily and one weekly). For example, you could take your Home-Snellius trajectory as a daily trajectory repeating from Monday to Friday (daily period) and your weekly trip to the supermarktet or city center from home only during the weekend as the second one (weekly period). Assume that you have a regular schedule (e.g., leaving every day at 8 and returning at 5). Simulate the whole trajectory (the path and the time you spend in each places). You can find GPS locations via Google Maps (right click on map - what is here?) or any other online map service. Try to think of scenarios that make this data as accurate as possible. (You can be creative about your home location because that's private information!)\n",
        "\n",
        "The GPS location of the entrance of the Snellius building is: 52.169709, 4.457111. \n",
        "\n",
        "Use a constant time between waypoints / GPS locations for this exercise.\n",
        "\n",
        "Tip I : a periodicity of 24 is recurring event at every 24 hrs (i.e. a daily event), a periodicity of 168 hrs is a weekly event. The final time-series should have a dimension of 144 (24hrs*60mins/10mins) * 365. \n",
        "\n",
        "Tip II: We talked so far about processing one time-series. In case two time-series acquired from two coordinates is difficult to handle, try to use only one, or combine them into one value (e.g. lat^2 + long^2).\n",
        "\n",
        "Tip III: Stuck with how to simulate data? Check the Lab of the first week and get some inspiration there. You are free to simulate coordinates per minutes or hours. Take a decision and go with it. You can always go back to your simulation later and make it more realistic. \n",
        "\n"
      ]
    },
    {
      "cell_type": "code",
      "metadata": {
        "colab_type": "code",
        "id": "SJ8CdduCQM__",
        "colab": {}
      },
      "source": [
        "#simulate data in form of two timeseries latitude and longitude of length (144*365):\n",
        "def simulate(homeCoord, supermarketCoord, snelliusCoord):\n",
        "\n",
        "\n",
        "  return simulatedData"
      ],
      "execution_count": null,
      "outputs": []
    },
    {
      "cell_type": "markdown",
      "metadata": {
        "colab_type": "text",
        "id": "wSett7xdQNAF"
      },
      "source": [
        "## 2nd part: Write two functions\n",
        "\n",
        "Your task is to write:\n",
        "\n",
        " a) a function that performs an Autocorrelation on the simulated data and plots a Autocorrelation graph represting the value of autocorrelation at every lag \n",
        " \n",
        " b) a function that evaluates the output of autocorrelation function and manages to extract the two simulated periodicities as output. \n",
        " \n",
        " Construct the second function such that it will return two numbers as periodic components (24, 168) and indicate which periodicity is more prominent. In implementing the Autocorrelaton you can try to implement a circular (shifting values from the end of time-series to its begining) or a non-circular version (removing values from the end of time-series). If the your function takes too much time to run, make sure to use the tips on code efficiency from the first lab.\n",
        "\n"
      ]
    },
    {
      "cell_type": "code",
      "metadata": {
        "colab_type": "code",
        "id": "kmdZFtimQNAH",
        "colab": {}
      },
      "source": [
        "#write your own ACF\n",
        "def autocorrelation(data):\n",
        "    \n",
        "    return autocorr"
      ],
      "execution_count": null,
      "outputs": []
    },
    {
      "cell_type": "code",
      "metadata": {
        "colab_type": "code",
        "id": "JLcMFTeGQNAS",
        "colab": {}
      },
      "source": [
        "#display ACF on y-axis, time on x-axis\n"
      ],
      "execution_count": null,
      "outputs": []
    },
    {
      "cell_type": "code",
      "metadata": {
        "colab_type": "code",
        "id": "DwjMyOm5xkFg",
        "colab": {}
      },
      "source": [
        "#write your evaluation function\n",
        "def autocorrPeriodicity(simulatedData):\n",
        "\n",
        "    autocorr = autocorrelation(simulatedData)\n",
        "    #\n",
        "    #  finding periods out of autocorrelation by automatically identifying the most dominant peaks\n",
        "    #\n",
        "    return autocorrPeriods"
      ],
      "execution_count": null,
      "outputs": []
    },
    {
      "cell_type": "markdown",
      "metadata": {
        "colab_type": "text",
        "id": "qPY9JFyixvBQ"
      },
      "source": [
        "## 3rd part: Periodograms\n",
        "Take a periodogram function from available functions in python and run it on the simulated data. Does your evaluation function from the 2nd part works on the results of the periodogram? If not design another algorithm for extracting periods from the periodogram."
      ]
    },
    {
      "cell_type": "code",
      "metadata": {
        "colab_type": "code",
        "id": "hjS6A44QyD0a",
        "colab": {}
      },
      "source": [
        "#work with periodogram, find a function available in one of the python packages\n"
      ],
      "execution_count": null,
      "outputs": []
    },
    {
      "cell_type": "code",
      "metadata": {
        "id": "9SHZEgQLQwAi",
        "colab_type": "code",
        "colab": {}
      },
      "source": [
        "# write your own periodogram function\n",
        "def periodogram(...):\n",
        "\n",
        "    return ..."
      ],
      "execution_count": null,
      "outputs": []
    },
    {
      "cell_type": "code",
      "metadata": {
        "colab_type": "code",
        "id": "wduxrd5SyGjq",
        "colab": {}
      },
      "source": [
        "# evaluate results of periodogram, write your evaluation function\n",
        "def periodogramPeriodicity(simulatedData):\n",
        "\n",
        "    # call the periodogram \n",
        "    #\n",
        "    # find periods from periodogram by automatically identifying the most dominant peaks\n",
        "    #\n",
        "    return periodogramPeriods"
      ],
      "execution_count": null,
      "outputs": []
    },
    {
      "cell_type": "markdown",
      "metadata": {
        "colab_type": "text",
        "id": "GC7VELIzQNAX"
      },
      "source": [
        "## 4th part: Performance\n",
        "\n",
        "Noise can occur at different levels in this data:\n",
        "\n",
        "- missing measurements at different proportions (randomly or in bursts)\n",
        "- noise around the location data (Let's assume your GPS sensor has an approximate range of 50 meters, and noisy points (being 100s of meters away) occur occasionaly due to the cloud cover or the multipath affect of the GPS signal)\n",
        "- noise around the temporal data (i.e. although you might assume that you leave home everyday at 8 and return at 5, every day you might leave a bit earlier or a bit later) \n",
        "- irregular behavior (i.e. skipping or adding a trajectory; for example going to school on a saturday or not going grocery shopping for a week, you might also try to define a number of new places and paths and add them to the trajectory randomly (e.g. you might go to the cinema every month with some probability))\n",
        "\n",
        "Choose at least two noise sources, add them to your simulated data and compare the performance of your ACF and periodogram function. Parametrize your process of injecting these uncertainties with a rate and check how sentitive your algorithms are to different proportions of these sources of imperfections.  Which one performs best? Under which circumstances?\n",
        "\n"
      ]
    },
    {
      "cell_type": "code",
      "metadata": {
        "id": "tcURsHuVQwAo",
        "colab_type": "code",
        "colab": {}
      },
      "source": [
        "def addNoiseOne(data, rate): # rate has a value in [0,1] and is used as parameter to define the level of noise added \n",
        "  return noisydata"
      ],
      "execution_count": null,
      "outputs": []
    },
    {
      "cell_type": "code",
      "metadata": {
        "id": "zA87pNf_QwAr",
        "colab_type": "code",
        "colab": {}
      },
      "source": [
        "def addNoiseTwo(data, rate):\n",
        "  return noisydata"
      ],
      "execution_count": null,
      "outputs": []
    },
    {
      "cell_type": "code",
      "metadata": {
        "colab_type": "code",
        "id": "eQhc21cMQNAY",
        "colab": {}
      },
      "source": [
        "#compare performance\n",
        "noisydata1 = addNoiseOne(data, 0.5)\n",
        "noisydata2 = addNoiseTwo(data, 0.5)\n",
        "\n",
        "#autocorrPeriodicity(noisydata1)\n",
        "#periodogramPeriodicity(noisydata2)\n"
      ],
      "execution_count": null,
      "outputs": []
    },
    {
      "cell_type": "markdown",
      "metadata": {
        "colab_type": "text",
        "id": "OZPJj_OrzGSH"
      },
      "source": [
        "### Conclusion\n",
        "Write a little report on your findings (150 words max):"
      ]
    },
    {
      "cell_type": "markdown",
      "metadata": {
        "colab_type": "text",
        "id": "V6yj3JXRQNAv"
      },
      "source": [
        "##5th part: Real life data\n",
        "\n",
        "You will use data from the geolife data sets to test the time-series analysis methods that you developed.\n",
        "\n",
        "Your task is to run the methods you just learned about and interpret your findings. \n",
        "\n",
        "Download the data here: https://www.microsoft.com/en-us/download/details.aspx?id=52367. Select one participant (the participants differ a lot in terms of number of trajectories collected, you might want to check several participants) and find out as much as you can about that participant. \n",
        "\n",
        "The user guide of the entire dataset can be found here:\n",
        "https://www.microsoft.com/en-us/research/wp-content/uploads/2016/02/User20Guide-1.2.pdf\n",
        "\n",
        "Use these questions as a guideline for your interpretation: \n",
        "\n",
        "- Where was the data gathered? Can you find frequently visited locations by exploring the data?\n",
        "\n",
        "- What is the general structure of your data? How much noise do you expect? What is the temporal granularity of your data? How long did your participant log their movement for?\n",
        "\n",
        "- Can you find periodic behaviors? Of which time?\n",
        "\n",
        "- If you cannot identify periodic behaviors: can you say why? What makes your data challenging? What realistic aspects of data was missing in your simulation? Having these challenges in mind: If you were to design a data collection protocol, what would be your topmost priorities?\n",
        "\n"
      ]
    },
    {
      "cell_type": "code",
      "metadata": {
        "colab_type": "code",
        "id": "JJ4ULbdhQNAw",
        "colab": {}
      },
      "source": [
        "#import data \n"
      ],
      "execution_count": null,
      "outputs": []
    },
    {
      "cell_type": "code",
      "metadata": {
        "colab_type": "code",
        "id": "QFUxf8UyQNAz",
        "colab": {}
      },
      "source": [
        "#some general exploratory statistics to find out more about your participant\n"
      ],
      "execution_count": null,
      "outputs": []
    },
    {
      "cell_type": "code",
      "metadata": {
        "colab_type": "code",
        "id": "YNaWFIG-QNA1",
        "colab": {}
      },
      "source": [
        "#run (your own) ACF \n"
      ],
      "execution_count": null,
      "outputs": []
    },
    {
      "cell_type": "code",
      "metadata": {
        "colab_type": "code",
        "id": "_LFEa3-aQNA3",
        "colab": {}
      },
      "source": [
        "#run periodogram on the data\n"
      ],
      "execution_count": null,
      "outputs": []
    },
    {
      "cell_type": "markdown",
      "metadata": {
        "colab_type": "text",
        "id": "RFp0ZUKtQNA7"
      },
      "source": [
        "### Conclusion\n",
        "Little report on findings (max 250 words):"
      ]
    },
    {
      "cell_type": "markdown",
      "metadata": {
        "id": "_YXEo3jyWuRX",
        "colab_type": "text"
      },
      "source": [
        "## How do we grade this assignment?\n",
        "Please pay attention to the following points. We consider these in calculating your final grade.\n",
        "\n",
        "First of all, we check if you have handed in the Jupyter notebook as well as a .pdf and .html version."
      ]
    },
    {
      "cell_type": "markdown",
      "metadata": {
        "id": "tf6EXK2oXDll",
        "colab_type": "text"
      },
      "source": [
        "**1st part:**\n",
        "\n",
        "1.   Your simulated data should have latitude and longitude.\n",
        "2.   Your simulated data should have the correct dimensionality/frequency.\n",
        "2.   It should also have both a daily and weekly cycle.\n",
        "\n"
      ]
    },
    {
      "cell_type": "markdown",
      "metadata": {
        "id": "qsH6N1uyXopp",
        "colab_type": "text"
      },
      "source": [
        "**2nd part:**\n",
        "\n",
        "\n",
        "1. You should have correctly implemented the autocorrelation function.\n",
        "2. We consider the graphs generated in grading.\n",
        "3. We consider if the function returns 2 periodic cycles correctly.\n",
        "4. We consider the extraction of the more prominent cycle. \n",
        "\n"
      ]
    },
    {
      "cell_type": "markdown",
      "metadata": {
        "id": "HYfPFVnQX8Jl",
        "colab_type": "text"
      },
      "source": [
        "**3rd part:**\n",
        "\n",
        "1.   We consider the implementation of the function based on periodogram.\n",
        "2.   We consider if it works, it extracts 2 periods and identifies the most prominent one.\n",
        "\n"
      ]
    },
    {
      "cell_type": "markdown",
      "metadata": {
        "id": "eUUEeqeNgIg9",
        "colab_type": "text"
      },
      "source": [
        "**4th part:**\n",
        "1. We consider if two noise sources are added.\n",
        "2. We check if both autocorrelation and periodogramd are applied to data.\n",
        "3. We check if the results of the experiments are presented in a useful way.\n",
        "4. We check the conclusions.\n"
      ]
    },
    {
      "cell_type": "markdown",
      "metadata": {
        "id": "2vajPss_hML5",
        "colab_type": "text"
      },
      "source": [
        "**5th part:**\n",
        "1. We check if you have explored data.\n",
        "2. We check if you have used periodogram and autocorrelation function.\n",
        "3. We check your summary and reports. "
      ]
    }
  ]
}